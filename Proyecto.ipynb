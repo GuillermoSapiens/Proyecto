{
 "cells": [
  {
   "cell_type": "markdown",
   "metadata": {},
   "source": [
    "<img src=\"geo.jpg/\" width = 60 height=60  align=right hspace=3 vspace=5>\n",
    "<img src=\"unam.png/\" width=70 height=70 align=left hspace =3 vspace=5>\n",
    "<img src=\"UAS.png/\" width=60 height=60 align=left hspace =3 vspace=10>\n",
    "# <CENTER>PROYECTO VERANO\n",
    "#### <center> Guillermo Alberto Sapiéns Peiro |Universidad Autónoma de Sinaloa |galberto.sapiens@gmail.com\n"
   ]
  },
  {
   "cell_type": "markdown",
   "metadata": {},
   "source": [
    "#### INTRODUCCIÓN\n",
    "El sistema de posicionamiento global continuo (<b>CGPS</b>)se ha utilizado ampliamente en aplicaciones geofisica, actualmente una de ella es el monitoreo de la deformación en los límites de placas. Para que esto fuera posible se necesitan de redes de estaciones CGPS, actualmente se encuentan diseminadas por todo el mundo estaciones de este tipo lo cual ha contribuido para relizar analisis de series de tiempo en zonas cercanas a los limites de placas.\n",
    "\n",
    "En México existen varias redes de medición continua GPS como <b>SOPAC, CORS, UNAVCO</b> y <b>TlalocNet</b>, que proveen posicionamiento puntual preciso sobre la superficie terrestre, con el cual es posible determinar desplazamientos del terreno utilizando el analisis de series de tiempo. \n",
    "Varios estudios realizados alrededor del mundo han demostrado que el uso de las estaciones GPS es util para determinar magnitudes de sismos y modelar su fuente, además se ha observado un buen acuerdo con los registro de acelerometros integrados.\n"
   ]
  },
  {
   "cell_type": "markdown",
   "metadata": {},
   "source": [
    "#### PLANTEAMIENTO DEL PROBLEMA\n",
    "Actualmente se utilizan estaciones HRGPS (High Rate Global Positioning System)con altas tazas de muestreo para realizar mediciones en \"Sismologia GPS\" en varias regiones del mundo, en México solo existen estaciones CGPS que operan con una taza de muestreo de 15 a 30 segundos, lo que sirve para hacer analisis de series de tiepo en ventanas de observacion de varias horas, en contraste con las estaciones HRGPS es necesario medir por un mayor tiempo con CGPS para estimar la deformación causada por un sismo. \n",
    "\n",
    "En México además existen redes sismologicas operadas por el Servicio Sismológico Nacional, como la Red Simlogica de Banda ancha que está configurada para monitorear la sismicidad de las regiones de mayor potencial sismico dentro de la República Mexicana. Esta estaciones constan de  un sismometro y un acelerometro.\n",
    "\n",
    "Al utilizar lo datos de estaciones CGPS en largos periodos de tiempo se pueden realizar análisis de series de tiempo que se utilicen para determinar la magnitud de sismos y su fuente, a su ves estos datos se pueden contrastar con los resultados obtenido con los acelerometros de la red sismologica.\n"
   ]
  },
  {
   "cell_type": "markdown",
   "metadata": {},
   "source": [
    "#### DELIMITACIÓN \n",
    " \n",
    "\n",
    "<img src=\"colima.png/\" width=\"500\" height=\"500\" >\n"
   ]
  },
  {
   "cell_type": "markdown",
   "metadata": {},
   "source": [
    "#### JUSTIFICACIÓN\n"
   ]
  },
  {
   "cell_type": "markdown",
   "metadata": {},
   "source": [
    "#### OBJETIVOS GENERALES\n",
    "\n",
    "\n"
   ]
  },
  {
   "cell_type": "markdown",
   "metadata": {},
   "source": [
    "#### ANTECEDENTES"
   ]
  },
  {
   "cell_type": "markdown",
   "metadata": {},
   "source": [
    "#### MARCO TEÓRICO"
   ]
  },
  {
   "cell_type": "markdown",
   "metadata": {},
   "source": [
    "#### METODOLOGÍA\n"
   ]
  },
  {
   "cell_type": "code",
   "execution_count": null,
   "metadata": {
    "collapsed": true
   },
   "outputs": [],
   "source": []
  }
 ],
 "metadata": {
  "kernelspec": {
   "display_name": "Julia 0.5.2",
   "language": "julia",
   "name": "julia-0.5"
  },
  "language_info": {
   "file_extension": ".jl",
   "mimetype": "application/julia",
   "name": "julia",
   "version": "0.5.2"
  }
 },
 "nbformat": 4,
 "nbformat_minor": 2
}
